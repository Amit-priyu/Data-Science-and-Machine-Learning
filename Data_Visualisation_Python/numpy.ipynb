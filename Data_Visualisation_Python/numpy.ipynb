{
 "cells": [
  {
   "cell_type": "code",
   "execution_count": 1,
   "metadata": {},
   "outputs": [],
   "source": [
    "# Numpy -fundamental libraires for scientific calculation in python.\n",
    "# -> provide support for array and metrices along with collc. of mathematical functions to operate on these data structures.\n"
   ]
  },
  {
   "cell_type": "code",
   "execution_count": 2,
   "metadata": {},
   "outputs": [
    {
     "name": "stdout",
     "output_type": "stream",
     "text": [
      "Collecting numpy\n",
      "  Downloading numpy-2.0.1-cp312-cp312-win_amd64.whl.metadata (60 kB)\n",
      "     ---------------------------------------- 0.0/60.9 kB ? eta -:--:--\n",
      "     ------------ ------------------------- 20.5/60.9 kB 330.3 kB/s eta 0:00:01\n",
      "     ------------------------- ------------ 41.0/60.9 kB 393.8 kB/s eta 0:00:01\n",
      "     -------------------------------------- 60.9/60.9 kB 464.8 kB/s eta 0:00:00\n",
      "Downloading numpy-2.0.1-cp312-cp312-win_amd64.whl (16.3 MB)\n",
      "   ---------------------------------------- 0.0/16.3 MB ? eta -:--:--\n",
      "   ---------------------------------------- 0.1/16.3 MB 3.2 MB/s eta 0:00:06\n",
      "    --------------------------------------- 0.3/16.3 MB 3.2 MB/s eta 0:00:06\n",
      "   - -------------------------------------- 0.6/16.3 MB 4.8 MB/s eta 0:00:04\n",
      "   -- ------------------------------------- 1.2/16.3 MB 6.9 MB/s eta 0:00:03\n",
      "   ---- ----------------------------------- 1.8/16.3 MB 7.7 MB/s eta 0:00:02\n",
      "   ----- ---------------------------------- 2.4/16.3 MB 8.9 MB/s eta 0:00:02\n",
      "   ------- -------------------------------- 3.0/16.3 MB 9.1 MB/s eta 0:00:02\n",
      "   -------- ------------------------------- 3.6/16.3 MB 9.5 MB/s eta 0:00:02\n",
      "   ---------- ----------------------------- 4.2/16.3 MB 9.8 MB/s eta 0:00:02\n",
      "   ----------- ---------------------------- 4.6/16.3 MB 9.8 MB/s eta 0:00:02\n",
      "   ------------ --------------------------- 5.2/16.3 MB 10.0 MB/s eta 0:00:02\n",
      "   -------------- ------------------------- 5.7/16.3 MB 10.2 MB/s eta 0:00:02\n",
      "   --------------- ------------------------ 6.2/16.3 MB 10.4 MB/s eta 0:00:01\n",
      "   ---------------- ----------------------- 6.7/16.3 MB 10.5 MB/s eta 0:00:01\n",
      "   ------------------ --------------------- 7.3/16.3 MB 10.7 MB/s eta 0:00:01\n",
      "   ------------------- -------------------- 7.9/16.3 MB 10.8 MB/s eta 0:00:01\n",
      "   -------------------- ------------------- 8.5/16.3 MB 10.7 MB/s eta 0:00:01\n",
      "   ---------------------- ----------------- 9.1/16.3 MB 10.8 MB/s eta 0:00:01\n",
      "   ----------------------- ---------------- 9.7/16.3 MB 10.8 MB/s eta 0:00:01\n",
      "   ------------------------- -------------- 10.3/16.3 MB 10.9 MB/s eta 0:00:01\n",
      "   -------------------------- ------------- 10.9/16.3 MB 11.7 MB/s eta 0:00:01\n",
      "   ---------------------------- ----------- 11.5/16.3 MB 11.9 MB/s eta 0:00:01\n",
      "   ----------------------------- ---------- 11.9/16.3 MB 11.9 MB/s eta 0:00:01\n",
      "   ------------------------------ --------- 12.5/16.3 MB 11.9 MB/s eta 0:00:01\n",
      "   -------------------------------- ------- 13.0/16.3 MB 11.9 MB/s eta 0:00:01\n",
      "   --------------------------------- ------ 13.6/16.3 MB 11.7 MB/s eta 0:00:01\n",
      "   ---------------------------------- ----- 14.2/16.3 MB 11.7 MB/s eta 0:00:01\n",
      "   ------------------------------------ --- 14.8/16.3 MB 11.9 MB/s eta 0:00:01\n",
      "   ------------------------------------- -- 15.4/16.3 MB 11.9 MB/s eta 0:00:01\n",
      "   ---------------------------------------  15.9/16.3 MB 11.9 MB/s eta 0:00:01\n",
      "   ---------------------------------------  16.3/16.3 MB 11.7 MB/s eta 0:00:01\n",
      "   ---------------------------------------- 16.3/16.3 MB 11.3 MB/s eta 0:00:00\n",
      "Installing collected packages: numpy\n",
      "Successfully installed numpy-2.0.1\n"
     ]
    },
    {
     "name": "stderr",
     "output_type": "stream",
     "text": [
      "\n",
      "[notice] A new release of pip is available: 24.0 -> 24.2\n",
      "[notice] To update, run: python.exe -m pip install --upgrade pip\n"
     ]
    }
   ],
   "source": [
    "! pip install numpy"
   ]
  },
  {
   "cell_type": "code",
   "execution_count": 7,
   "metadata": {},
   "outputs": [
    {
     "name": "stdout",
     "output_type": "stream",
     "text": [
      "[1 2 3 4 5]\n",
      "(5,)\n"
     ]
    }
   ],
   "source": [
    "import numpy as np\n",
    "#create 1d array\n",
    "arr1=np.array([1,2,3,4,5])\n",
    "print(arr1)\n",
    "print(arr1.shape)"
   ]
  },
  {
   "cell_type": "code",
   "execution_count": 8,
   "metadata": {},
   "outputs": [
    {
     "name": "stdout",
     "output_type": "stream",
     "text": [
      "[[ 2  4  5]\n",
      " [ 3 40 89]]\n",
      "(2, 3)\n"
     ]
    }
   ],
   "source": [
    "# 2 d array\n",
    "arr2=np.array([[2,4,5],[3,40,89]])\n",
    "print(arr2)\n",
    "print(arr2.shape)"
   ]
  },
  {
   "cell_type": "code",
   "execution_count": 13,
   "metadata": {},
   "outputs": [
    {
     "data": {
      "text/plain": [
       "array([ 0,  3,  6,  9, 12, 15, 18])"
      ]
     },
     "execution_count": 13,
     "metadata": {},
     "output_type": "execute_result"
    }
   ],
   "source": [
    "np.arange(0,20,3)"
   ]
  },
  {
   "cell_type": "code",
   "execution_count": 17,
   "metadata": {},
   "outputs": [
    {
     "data": {
      "text/plain": [
       "array([[1., 1., 1., 1., 1.],\n",
       "       [1., 1., 1., 1., 1.],\n",
       "       [1., 1., 1., 1., 1.],\n",
       "       [1., 1., 1., 1., 1.],\n",
       "       [1., 1., 1., 1., 1.]])"
      ]
     },
     "execution_count": 17,
     "metadata": {},
     "output_type": "execute_result"
    }
   ],
   "source": [
    "#Matrix with all values as 1\n",
    "np.ones((5,5))"
   ]
  },
  {
   "cell_type": "code",
   "execution_count": 18,
   "metadata": {},
   "outputs": [
    {
     "data": {
      "text/plain": [
       "array([[1., 0., 0., 0.],\n",
       "       [0., 1., 0., 0.],\n",
       "       [0., 0., 1., 0.],\n",
       "       [0., 0., 0., 1.]])"
      ]
     },
     "execution_count": 18,
     "metadata": {},
     "output_type": "execute_result"
    }
   ],
   "source": [
    "#identity matrix\n",
    "np.eye(4)"
   ]
  },
  {
   "cell_type": "code",
   "execution_count": 19,
   "metadata": {},
   "outputs": [
    {
     "name": "stdout",
     "output_type": "stream",
     "text": [
      "[11 22 33 44 55]\n",
      "[ -9 -18 -27 -36 -45]\n",
      "[ 10  40  90 160 250]\n",
      "[0.1 0.1 0.1 0.1 0.1]\n"
     ]
    }
   ],
   "source": [
    "#vectorized operations.\n",
    "a1=np.array([1,2,3,4,5])\n",
    "a2=np.array([10,20,30,40,50])\n",
    "print(a1+a2)\n",
    "print(a1-a2)\n",
    "print(a1*a2)\n",
    "print(a1/a2)"
   ]
  },
  {
   "cell_type": "code",
   "execution_count": 24,
   "metadata": {},
   "outputs": [
    {
     "name": "stdout",
     "output_type": "stream",
     "text": [
      "[3.31662479 4.69041576 5.74456265 6.63324958 7.41619849]\n",
      "[5.98741417e+04 3.58491285e+09 2.14643580e+14 1.28516001e+19\n",
      " 7.69478527e+23]\n",
      "[-0.99999021 -0.00885131  0.99991186  0.01770193 -0.99975517]\n",
      "[2.39789527 3.09104245 3.49650756 3.78418963 4.00733319]\n"
     ]
    }
   ],
   "source": [
    "arr=np.array([11,22,33,44,55])\n",
    "print(np.sqrt(arr))\n",
    "print(np.exp(arr))\n",
    "print(np.sin(arr))\n",
    "print(np.log(arr))"
   ]
  },
  {
   "cell_type": "code",
   "execution_count": 26,
   "metadata": {},
   "outputs": [
    {
     "data": {
      "text/plain": [
       "array([[ 1,  2,  3,  4],\n",
       "       [ 5,  6,  7,  8],\n",
       "       [ 9, 10, 11, 12]])"
      ]
     },
     "execution_count": 26,
     "metadata": {},
     "output_type": "execute_result"
    }
   ],
   "source": [
    "# slicing and indexing...\n",
    "arr=np.array([[1,2,3,4],[5,6,7,8],[9,10,11,12]])\n",
    "arr"
   ]
  },
  {
   "cell_type": "code",
   "execution_count": 28,
   "metadata": {},
   "outputs": [
    {
     "name": "stdout",
     "output_type": "stream",
     "text": [
      "[[ 7  8]\n",
      " [11 12]]\n",
      "[[3 4]\n",
      " [7 8]]\n"
     ]
    }
   ],
   "source": [
    "print(arr[1:,2:])\n",
    "print(arr[0:2,2:])"
   ]
  },
  {
   "cell_type": "code",
   "execution_count": 30,
   "metadata": {},
   "outputs": [
    {
     "data": {
      "text/plain": [
       "array([[10,  2,  3,  4],\n",
       "       [ 5,  6,  7,  8],\n",
       "       [ 9, 10, 11, 12]])"
      ]
     },
     "execution_count": 30,
     "metadata": {},
     "output_type": "execute_result"
    }
   ],
   "source": [
    "#Modify the array element\n",
    "arr[0,0]=10\n",
    "arr"
   ]
  },
  {
   "cell_type": "code",
   "execution_count": 32,
   "metadata": {},
   "outputs": [
    {
     "data": {
      "text/plain": [
       "array([-1.41421356, -0.70710678,  0.        ,  0.70710678,  1.41421356])"
      ]
     },
     "execution_count": 32,
     "metadata": {},
     "output_type": "execute_result"
    }
   ],
   "source": [
    "#statics concept of numpy--- i.e. called normalisation\n",
    "# normalisation: it means that having a mean of 0 and standard deviation of 1.\n",
    "data=np.array([1,2,3,4,5])\n",
    "\n",
    "mean=np.mean(data)\n",
    "std_deviation=np.std(data)\n",
    "#Normalising the data\n",
    "normalized_data=(data-mean)/std_deviation\n",
    "normalized_data"
   ]
  },
  {
   "cell_type": "code",
   "execution_count": 34,
   "metadata": {},
   "outputs": [
    {
     "name": "stdout",
     "output_type": "stream",
     "text": [
      "5.5\n",
      "5.5\n",
      "2.8722813232690143\n",
      "8.25\n"
     ]
    }
   ],
   "source": [
    "data=np.array([1,2,3,4,5,6,7,8,9,10])\n",
    "#mean\n",
    "mean=np.mean(data)\n",
    "print(mean)\n",
    "#median\n",
    "median=np.median(data)\n",
    "print(median)\n",
    "#standard deviation\n",
    "std_dev=np.std(data)\n",
    "print(std_dev)\n",
    "\n",
    "#variance\n",
    "variance=np.var(data)\n",
    "print(variance)"
   ]
  },
  {
   "cell_type": "code",
   "execution_count": 36,
   "metadata": {},
   "outputs": [
    {
     "data": {
      "text/plain": [
       "array([5, 6, 7, 8])"
      ]
     },
     "execution_count": 36,
     "metadata": {},
     "output_type": "execute_result"
    }
   ],
   "source": [
    "#Logical Operation\n",
    "data=np.array([1,2,3,4,5,6,7,8,9,10])\n",
    "data[(data>=5)&(data<=8)]"
   ]
  },
  {
   "cell_type": "code",
   "execution_count": null,
   "metadata": {},
   "outputs": [],
   "source": []
  }
 ],
 "metadata": {
  "kernelspec": {
   "display_name": "Python 3",
   "language": "python",
   "name": "python3"
  },
  "language_info": {
   "codemirror_mode": {
    "name": "ipython",
    "version": 3
   },
   "file_extension": ".py",
   "mimetype": "text/x-python",
   "name": "python",
   "nbconvert_exporter": "python",
   "pygments_lexer": "ipython3",
   "version": "3.12.4"
  }
 },
 "nbformat": 4,
 "nbformat_minor": 2
}
